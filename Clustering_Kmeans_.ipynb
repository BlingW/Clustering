{
 "cells": [
  {
   "cell_type": "markdown",
   "metadata": {},
   "source": [
    "## 对用户进行聚类\n",
    "## 数据来源于 Kaggle 竞赛\n",
    "## 竞赛官网：\n",
    "### https://www.kaggle.com/c/event-recommendation-engine-challenge/data"
   ]
  },
  {
   "cell_type": "code",
   "execution_count": 1,
   "metadata": {
    "collapsed": true
   },
   "outputs": [],
   "source": [
    "import numpy as np\n",
    "import pandas as pd\n",
    "\n",
    "import matplotlib.pyplot as plt\n",
    "import seaborn as sns\n",
    "sns.set()\n",
    "%matplotlib inline\n",
    "\n",
    "from sklearn.cluster import MiniBatchKMeans\n",
    "from sklearn import metrics\n",
    "from sklearn.model_selection import train_test_split\n",
    "\n",
    "from sklearn.decomposition import PCA\n",
    "from sklearn.preprocessing import OneHotEncoder"
   ]
  },
  {
   "cell_type": "code",
   "execution_count": 2,
   "metadata": {},
   "outputs": [
    {
     "data": {
      "text/html": [
       "<div>\n",
       "<style>\n",
       "    .dataframe thead tr:only-child th {\n",
       "        text-align: right;\n",
       "    }\n",
       "\n",
       "    .dataframe thead th {\n",
       "        text-align: left;\n",
       "    }\n",
       "\n",
       "    .dataframe tbody tr th {\n",
       "        vertical-align: top;\n",
       "    }\n",
       "</style>\n",
       "<table border=\"1\" class=\"dataframe\">\n",
       "  <thead>\n",
       "    <tr style=\"text-align: right;\">\n",
       "      <th></th>\n",
       "      <th>user_id</th>\n",
       "      <th>locale</th>\n",
       "      <th>birthyear</th>\n",
       "      <th>gender</th>\n",
       "      <th>joinedAt</th>\n",
       "      <th>location</th>\n",
       "      <th>timezone</th>\n",
       "    </tr>\n",
       "  </thead>\n",
       "  <tbody>\n",
       "    <tr>\n",
       "      <th>0</th>\n",
       "      <td>3197468391</td>\n",
       "      <td>id_ID</td>\n",
       "      <td>1993</td>\n",
       "      <td>male</td>\n",
       "      <td>2012-10-02T06:40:55.524Z</td>\n",
       "      <td>Medan  Indonesia</td>\n",
       "      <td>480.0</td>\n",
       "    </tr>\n",
       "    <tr>\n",
       "      <th>1</th>\n",
       "      <td>3537982273</td>\n",
       "      <td>id_ID</td>\n",
       "      <td>1992</td>\n",
       "      <td>male</td>\n",
       "      <td>2012-09-29T18:03:12.111Z</td>\n",
       "      <td>Medan  Indonesia</td>\n",
       "      <td>420.0</td>\n",
       "    </tr>\n",
       "    <tr>\n",
       "      <th>2</th>\n",
       "      <td>823183725</td>\n",
       "      <td>en_US</td>\n",
       "      <td>1975</td>\n",
       "      <td>male</td>\n",
       "      <td>2012-10-06T03:14:07.149Z</td>\n",
       "      <td>Stratford  Ontario</td>\n",
       "      <td>-240.0</td>\n",
       "    </tr>\n",
       "    <tr>\n",
       "      <th>3</th>\n",
       "      <td>1872223848</td>\n",
       "      <td>en_US</td>\n",
       "      <td>1991</td>\n",
       "      <td>female</td>\n",
       "      <td>2012-11-04T08:59:43.783Z</td>\n",
       "      <td>Tehran  Iran</td>\n",
       "      <td>210.0</td>\n",
       "    </tr>\n",
       "    <tr>\n",
       "      <th>4</th>\n",
       "      <td>3429017717</td>\n",
       "      <td>id_ID</td>\n",
       "      <td>1995</td>\n",
       "      <td>female</td>\n",
       "      <td>2012-09-10T16:06:53.132Z</td>\n",
       "      <td>NaN</td>\n",
       "      <td>420.0</td>\n",
       "    </tr>\n",
       "  </tbody>\n",
       "</table>\n",
       "</div>"
      ],
      "text/plain": [
       "      user_id locale birthyear  gender                  joinedAt  \\\n",
       "0  3197468391  id_ID      1993    male  2012-10-02T06:40:55.524Z   \n",
       "1  3537982273  id_ID      1992    male  2012-09-29T18:03:12.111Z   \n",
       "2   823183725  en_US      1975    male  2012-10-06T03:14:07.149Z   \n",
       "3  1872223848  en_US      1991  female  2012-11-04T08:59:43.783Z   \n",
       "4  3429017717  id_ID      1995  female  2012-09-10T16:06:53.132Z   \n",
       "\n",
       "             location  timezone  \n",
       "0    Medan  Indonesia     480.0  \n",
       "1    Medan  Indonesia     420.0  \n",
       "2  Stratford  Ontario    -240.0  \n",
       "3        Tehran  Iran     210.0  \n",
       "4                 NaN     420.0  "
      ]
     },
     "execution_count": 2,
     "metadata": {},
     "output_type": "execute_result"
    }
   ],
   "source": [
    "# 导入数据\n",
    "user_data = pd.read_csv('./data/users.csv')\n",
    "user_data.head()"
   ]
  },
  {
   "cell_type": "code",
   "execution_count": 3,
   "metadata": {
    "collapsed": true
   },
   "outputs": [],
   "source": [
    "#user_id不作为聚类属性\n",
    "user_id = user_data.user_id\n",
    "user_data = user_data.drop([\"user_id\"], axis=1)"
   ]
  },
  {
   "cell_type": "code",
   "execution_count": 4,
   "metadata": {},
   "outputs": [
    {
     "name": "stdout",
     "output_type": "stream",
     "text": [
      "<class 'pandas.core.frame.DataFrame'>\n",
      "RangeIndex: 38209 entries, 0 to 38208\n",
      "Data columns (total 6 columns):\n",
      "locale       38209 non-null object\n",
      "birthyear    38209 non-null object\n",
      "gender       38100 non-null object\n",
      "joinedAt     38152 non-null object\n",
      "location     32745 non-null object\n",
      "timezone     37773 non-null float64\n",
      "dtypes: float64(1), object(5)\n",
      "memory usage: 1.7+ MB\n"
     ]
    }
   ],
   "source": [
    "user_data.info()"
   ]
  },
  {
   "cell_type": "markdown",
   "metadata": {},
   "source": [
    "可以看到有很多非数值型特征，还有很多特征有缺失值,特别是location太多缺失值了，直接丢弃"
   ]
  },
  {
   "cell_type": "code",
   "execution_count": 5,
   "metadata": {
    "collapsed": true
   },
   "outputs": [],
   "source": [
    "user_data = user_data.drop([\"location\"], axis=1)"
   ]
  },
  {
   "cell_type": "code",
   "execution_count": 6,
   "metadata": {},
   "outputs": [
    {
     "data": {
      "text/plain": [
       "en_US    17073\n",
       "id_ID    11817\n",
       "es_LA     1999\n",
       "en_GB     1745\n",
       "es_ES      981\n",
       "fa_IR      676\n",
       "ar_AR      584\n",
       "hu_HU      544\n",
       "fr_FR      529\n",
       "pt_BR      472\n",
       "ka_GE      407\n",
       "zh_CN      183\n",
       "ru_RU      135\n",
       "ja_JP      121\n",
       "de_DE      119\n",
       "tr_TR      109\n",
       "ko_KR       91\n",
       "it_IT       78\n",
       "vi_VN       61\n",
       "fr_CA       49\n",
       "zh_TW       41\n",
       "pt_PT       36\n",
       "th_TH       27\n",
       "km_KH       25\n",
       "pl_PL       24\n",
       "jv_ID       23\n",
       "cs_CZ       22\n",
       "sv_SE       22\n",
       "el_GR       19\n",
       "zh_HK       19\n",
       "         ...  \n",
       "hr_HR       11\n",
       "bg_BG       11\n",
       "nl_NL       10\n",
       "he_IL        9\n",
       "sk_SK        7\n",
       "sr_RS        6\n",
       "en_IN        5\n",
       "mk_MK        4\n",
       "nb_NO        4\n",
       "fi_FI        4\n",
       "bn_IN        4\n",
       "ca_ES        4\n",
       "da_DK        4\n",
       "bs_BA        3\n",
       "mn_MN        3\n",
       "lt_LT        2\n",
       "af_ZA        2\n",
       "fb_LT        2\n",
       "lv_LV        2\n",
       "ku_TR        2\n",
       "uk_UA        2\n",
       "az_AZ        2\n",
       "en_UD        2\n",
       "et_EE        1\n",
       "tl_PH        1\n",
       "pa_IN        1\n",
       "cy_GB        1\n",
       "hi_IN        1\n",
       "es_MX        1\n",
       "eo_EO        1\n",
       "Name: locale, Length: 64, dtype: int64"
      ]
     },
     "execution_count": 6,
     "metadata": {},
     "output_type": "execute_result"
    }
   ],
   "source": [
    "user_data.locale.value_counts()"
   ]
  },
  {
   "cell_type": "markdown",
   "metadata": {},
   "source": [
    "可以分析出这是一个无序分类特征，我们需要对其做编码处理"
   ]
  },
  {
   "cell_type": "code",
   "execution_count": 7,
   "metadata": {
    "collapsed": true
   },
   "outputs": [],
   "source": [
    "from collections import defaultdict\n",
    "import locale\n",
    "\n",
    "localeIdMap = defaultdict(int)\n",
    "for i, l in enumerate(locale.locale_alias.keys()):\n",
    "    localeIdMap[l] = i + 1\n",
    "\n",
    "# 定义locale转换函数，后面循环调用\n",
    "def getLocaleId(locstr):\n",
    "    return localeIdMap[locstr.lower()]"
   ]
  },
  {
   "cell_type": "code",
   "execution_count": 8,
   "metadata": {},
   "outputs": [
    {
     "data": {
      "text/plain": [
       "1993      3915\n",
       "1992      3604\n",
       "1994      3446\n",
       "1990      3016\n",
       "1991      2976\n",
       "1995      2065\n",
       "1989      1942\n",
       "1996      1758\n",
       "1988      1622\n",
       "None      1492\n",
       "1997      1331\n",
       "1987      1255\n",
       "1986      1086\n",
       "1985       983\n",
       "1980       856\n",
       "1984       823\n",
       "1983       717\n",
       "1998       673\n",
       "1982       626\n",
       "1981       580\n",
       "1979       453\n",
       "1978       408\n",
       "1977       359\n",
       "1976       176\n",
       "1975       168\n",
       "1999       150\n",
       "1971       120\n",
       "1974       119\n",
       "1972       108\n",
       "1970       106\n",
       "          ... \n",
       "1911         4\n",
       "1907         4\n",
       "1916         4\n",
       "1915         4\n",
       "1922         3\n",
       "1928         3\n",
       "1930         3\n",
       "1943         3\n",
       "1935         3\n",
       "1917         3\n",
       "1913         3\n",
       "1933         3\n",
       "1923         2\n",
       "1938         2\n",
       "1908         2\n",
       "1914         2\n",
       "1912         2\n",
       "1924         2\n",
       "1929         1\n",
       "1903         1\n",
       "1902         1\n",
       "1932         1\n",
       "1934         1\n",
       "16-Mar       1\n",
       "23-May       1\n",
       "1909         1\n",
       "1937         1\n",
       "1927         1\n",
       "1931         1\n",
       "1921         1\n",
       "Name: birthyear, Length: 98, dtype: int64"
      ]
     },
     "execution_count": 8,
     "metadata": {},
     "output_type": "execute_result"
    }
   ],
   "source": [
    "user_data.birthyear.value_counts()"
   ]
  },
  {
   "cell_type": "markdown",
   "metadata": {},
   "source": [
    "可以看到有很多None,还有23-May之类的数据，将这些数据记为Nan"
   ]
  },
  {
   "cell_type": "code",
   "execution_count": 9,
   "metadata": {},
   "outputs": [
    {
     "name": "stdout",
     "output_type": "stream",
     "text": [
      "<class 'pandas.core.frame.DataFrame'>\n",
      "RangeIndex: 38209 entries, 0 to 38208\n",
      "Data columns (total 5 columns):\n",
      "locale       38209 non-null object\n",
      "birthyear    36715 non-null float64\n",
      "gender       38100 non-null object\n",
      "joinedAt     38152 non-null object\n",
      "timezone     37773 non-null float64\n",
      "dtypes: float64(2), object(3)\n",
      "memory usage: 1.5+ MB\n"
     ]
    }
   ],
   "source": [
    "user_data.birthyear = pd.to_numeric(user_data.birthyear,  errors='coerce')\n",
    "user_data.info()"
   ]
  },
  {
   "cell_type": "markdown",
   "metadata": {},
   "source": [
    "再来对gender进行处理"
   ]
  },
  {
   "cell_type": "code",
   "execution_count": 10,
   "metadata": {},
   "outputs": [
    {
     "data": {
      "text/plain": [
       "<matplotlib.axes._subplots.AxesSubplot at 0x126bb2a9438>"
      ]
     },
     "execution_count": 10,
     "metadata": {},
     "output_type": "execute_result"
    },
    {
     "data": {
      "image/png": "[encoded data removed]",
      "text/plain": [
       "<matplotlib.figure.Figure at 0x126b7081c18>"
      ]
     },
     "metadata": {},
     "output_type": "display_data"
    }
   ],
   "source": [
    "sns.countplot(user_data.gender)"
   ]
  },
  {
   "cell_type": "markdown",
   "metadata": {},
   "source": [
    "转为数值1，2"
   ]
  },
  {
   "cell_type": "code",
   "execution_count": 11,
   "metadata": {
    "collapsed": true
   },
   "outputs": [],
   "source": [
    "genderIdMap = defaultdict(int, {'NaN': 0, \"male\":1, \"female\":2})\n",
    "\n",
    "def getGenderId(genderStr):\n",
    "    return genderIdMap[genderStr]"
   ]
  },
  {
   "cell_type": "markdown",
   "metadata": {},
   "source": [
    "对joinedAt进行处理"
   ]
  },
  {
   "cell_type": "code",
   "execution_count": 12,
   "metadata": {
    "collapsed": true
   },
   "outputs": [],
   "source": [
    "import datetime\n",
    "\n",
    "def getJoinedYearMonth(dateString):\n",
    "    try:\n",
    "        dttm = datetime.datetime.strptime(dateString, \"%Y-%m-%dT%H:%M:%S.%fZ\")\n",
    "        return (dttm.year-2010)*12 + dttm.month\n",
    "    except:  #缺失补0\n",
    "        return 0"
   ]
  },
  {
   "cell_type": "code",
   "execution_count": 13,
   "metadata": {
    "collapsed": true
   },
   "outputs": [],
   "source": [
    "def getBirthYearInt(birthYear):\n",
    "    #缺失补0\n",
    "    try:\n",
    "        return 0 if birthYear == 'None' else int(birthYear)\n",
    "    except:\n",
    "        return 0\n",
    "\n",
    "def getTimezoneInt(timezone):\n",
    "    try:\n",
    "        return int(timezone)\n",
    "    except:  #缺失值处理\n",
    "        return 0"
   ]
  },
  {
   "cell_type": "code",
   "execution_count": 14,
   "metadata": {
    "collapsed": true
   },
   "outputs": [],
   "source": [
    "from sklearn.preprocessing import normalize\n",
    "\n",
    "cols = ['LocaleId', 'BirthYearInt', 'GenderId', 'JoinedYearMonth', 'TimezoneInt']\n",
    "n_cols = len(cols)\n",
    "userMatrix = np.zeros((user_data.shape[0],n_cols), dtype=np.int)\n",
    "\n",
    "for i in range(user_data.shape[0]): \n",
    "    userMatrix[i, 0] = getLocaleId(user_data.loc[i,'locale'])\n",
    "    userMatrix[i, 1] = getBirthYearInt(user_data.loc[i,'birthyear'])\n",
    "    userMatrix[i, 2] = getGenderId(user_data.loc[i,'gender'])\n",
    "    userMatrix[i, 3] = getJoinedYearMonth(user_data.loc[i,'joinedAt'])\n",
    "    userMatrix[i, 4] = getTimezoneInt(user_data.loc[i,'timezone'])\n",
    "\n",
    "# 归一化用户矩阵\n",
    "userMatrix = normalize(userMatrix, norm=\"l1\", axis=0, copy=False)\n",
    "\n",
    "user_data_FE = pd.DataFrame(data=userMatrix, columns=cols)  "
   ]
  },
  {
   "cell_type": "code",
   "execution_count": 15,
   "metadata": {},
   "outputs": [
    {
     "data": {
      "text/html": [
       "<div>\n",
       "<style>\n",
       "    .dataframe thead tr:only-child th {\n",
       "        text-align: right;\n",
       "    }\n",
       "\n",
       "    .dataframe thead th {\n",
       "        text-align: left;\n",
       "    }\n",
       "\n",
       "    .dataframe tbody tr th {\n",
       "        vertical-align: top;\n",
       "    }\n",
       "</style>\n",
       "<table border=\"1\" class=\"dataframe\">\n",
       "  <thead>\n",
       "    <tr style=\"text-align: right;\">\n",
       "      <th></th>\n",
       "      <th>LocaleId</th>\n",
       "      <th>BirthYearInt</th>\n",
       "      <th>GenderId</th>\n",
       "      <th>JoinedYearMonth</th>\n",
       "      <th>TimezoneInt</th>\n",
       "    </tr>\n",
       "  </thead>\n",
       "  <tbody>\n",
       "    <tr>\n",
       "      <th>0</th>\n",
       "      <td>0.000036</td>\n",
       "      <td>0.000027</td>\n",
       "      <td>0.000019</td>\n",
       "      <td>0.000026</td>\n",
       "      <td>0.000036</td>\n",
       "    </tr>\n",
       "    <tr>\n",
       "      <th>1</th>\n",
       "      <td>0.000036</td>\n",
       "      <td>0.000027</td>\n",
       "      <td>0.000019</td>\n",
       "      <td>0.000026</td>\n",
       "      <td>0.000031</td>\n",
       "    </tr>\n",
       "    <tr>\n",
       "      <th>2</th>\n",
       "      <td>0.000020</td>\n",
       "      <td>0.000027</td>\n",
       "      <td>0.000019</td>\n",
       "      <td>0.000026</td>\n",
       "      <td>-0.000018</td>\n",
       "    </tr>\n",
       "    <tr>\n",
       "      <th>3</th>\n",
       "      <td>0.000020</td>\n",
       "      <td>0.000027</td>\n",
       "      <td>0.000038</td>\n",
       "      <td>0.000027</td>\n",
       "      <td>0.000016</td>\n",
       "    </tr>\n",
       "    <tr>\n",
       "      <th>4</th>\n",
       "      <td>0.000036</td>\n",
       "      <td>0.000027</td>\n",
       "      <td>0.000038</td>\n",
       "      <td>0.000026</td>\n",
       "      <td>0.000031</td>\n",
       "    </tr>\n",
       "  </tbody>\n",
       "</table>\n",
       "</div>"
      ],
      "text/plain": [
       "   LocaleId  BirthYearInt  GenderId  JoinedYearMonth  TimezoneInt\n",
       "0  0.000036      0.000027  0.000019         0.000026     0.000036\n",
       "1  0.000036      0.000027  0.000019         0.000026     0.000031\n",
       "2  0.000020      0.000027  0.000019         0.000026    -0.000018\n",
       "3  0.000020      0.000027  0.000038         0.000027     0.000016\n",
       "4  0.000036      0.000027  0.000038         0.000026     0.000031"
      ]
     },
     "execution_count": 15,
     "metadata": {},
     "output_type": "execute_result"
    }
   ],
   "source": [
    "user_data_FE.head()"
   ]
  },
  {
   "cell_type": "code",
   "execution_count": 16,
   "metadata": {},
   "outputs": [
    {
     "name": "stdout",
     "output_type": "stream",
     "text": [
      "<class 'pandas.core.frame.DataFrame'>\n",
      "RangeIndex: 38209 entries, 0 to 38208\n",
      "Data columns (total 5 columns):\n",
      "LocaleId           38209 non-null float64\n",
      "BirthYearInt       38209 non-null float64\n",
      "GenderId           38209 non-null float64\n",
      "JoinedYearMonth    38209 non-null float64\n",
      "TimezoneInt        38209 non-null float64\n",
      "dtypes: float64(5)\n",
      "memory usage: 1.5 MB\n"
     ]
    }
   ],
   "source": [
    "user_data_FE.info()"
   ]
  },
  {
   "cell_type": "markdown",
   "metadata": {},
   "source": [
    "## 做完特征工程，开始做聚类，由于这个数据集的维数本来就很小了，故在此不对他进行降维"
   ]
  },
  {
   "cell_type": "code",
   "execution_count": 17,
   "metadata": {},
   "outputs": [
    {
     "name": "stderr",
     "output_type": "stream",
     "text": [
      "D:\\Anaconda\\lib\\site-packages\\sklearn\\model_selection\\_split.py:2026: FutureWarning: From version 0.21, test_size will always complement train_size unless both are specified.\n",
      "  FutureWarning)\n"
     ]
    }
   ],
   "source": [
    "data_train, data_val = train_test_split(user_data_FE, train_size = 0.8,random_state = 0)"
   ]
  },
  {
   "cell_type": "code",
   "execution_count": 18,
   "metadata": {},
   "outputs": [
    {
     "name": "stdout",
     "output_type": "stream",
     "text": [
      "(30567, 5)\n",
      "(7642, 5)\n"
     ]
    }
   ],
   "source": [
    "print(data_train.shape)\n",
    "print(data_val.shape)"
   ]
  },
  {
   "cell_type": "code",
   "execution_count": 19,
   "metadata": {},
   "outputs": [
    {
     "name": "stdout",
     "output_type": "stream",
     "text": [
      "CH_score: 8248.179121437626\n",
      "S_score: 0.6830333987905183\n",
      "CH_score: 7710.351068377943\n",
      "S_score: 0.6818634336495453\n",
      "CH_score: 6833.101324558472\n",
      "S_score: 0.6109857049102416\n"
     ]
    }
   ],
   "source": [
    "from sklearn.cluster import MiniBatchKMeans\n",
    "\n",
    "n_clusters = [20, 40, 80]\n",
    "user_data_Predict = user_data_FE\n",
    "CH_scores = []\n",
    "S_scores = []\n",
    "\n",
    "for i,n_cluster in enumerate(n_clusters):\n",
    "    km = MiniBatchKMeans(n_clusters = n_cluster)\n",
    "    km.fit(data_train)\n",
    "    \n",
    "    #预测\n",
    "    cluster_name = 'cluster_' + str(n_cluster)\n",
    "    user_data_Predict[cluster_name] = km.predict(user_data_FE.iloc[:,:5])\n",
    "    \n",
    "    #评估\n",
    "    S_score = metrics.silhouette_score(data_val, km.predict(data_val))\n",
    "    S_scores.append(S_score)\n",
    "    CH_score = metrics.calinski_harabaz_score(data_val, km.predict(data_val))\n",
    "    CH_scores.append(CH_score)\n",
    "    print(\"CH_score: {}\".format(CH_score))\n",
    "    print(\"S_score: {}\".format(S_score))"
   ]
  },
  {
   "cell_type": "code",
   "execution_count": 20,
   "metadata": {},
   "outputs": [
    {
     "data": {
      "text/plain": [
       "[<matplotlib.lines.Line2D at 0x126bb767940>]"
      ]
     },
     "execution_count": 20,
     "metadata": {},
     "output_type": "execute_result"
    },
    {
     "data": {
      "image/png": "[encoded data removed]",
      "text/plain": [
       "<matplotlib.figure.Figure at 0x126bb6a6ef0>"
      ]
     },
     "metadata": {},
     "output_type": "display_data"
    }
   ],
   "source": [
    "plt.plot(n_clusters, np.array(CH_scores), 'b-')"
   ]
  },
  {
   "cell_type": "code",
   "execution_count": 24,
   "metadata": {},
   "outputs": [
    {
     "data": {
      "text/plain": [
       "[<matplotlib.lines.Line2D at 0x126bc3412b0>]"
      ]
     },
     "execution_count": 24,
     "metadata": {},
     "output_type": "execute_result"
    },
    {
     "data": {
      "image/png": "[encoded data removed]",
      "text/plain": [
       "<matplotlib.figure.Figure at 0x126bb2a97f0>"
      ]
     },
     "metadata": {},
     "output_type": "display_data"
    }
   ],
   "source": [
    "plt.plot(n_clusters, np.array(S_scores), 'b-')"
   ]
  },
  {
   "cell_type": "code",
   "execution_count": 21,
   "metadata": {},
   "outputs": [
    {
     "data": {
      "text/html": [
       "<div>\n",
       "<style>\n",
       "    .dataframe thead tr:only-child th {\n",
       "        text-align: right;\n",
       "    }\n",
       "\n",
       "    .dataframe thead th {\n",
       "        text-align: left;\n",
       "    }\n",
       "\n",
       "    .dataframe tbody tr th {\n",
       "        vertical-align: top;\n",
       "    }\n",
       "</style>\n",
       "<table border=\"1\" class=\"dataframe\">\n",
       "  <thead>\n",
       "    <tr style=\"text-align: right;\">\n",
       "      <th></th>\n",
       "      <th>LocaleId</th>\n",
       "      <th>BirthYearInt</th>\n",
       "      <th>GenderId</th>\n",
       "      <th>JoinedYearMonth</th>\n",
       "      <th>TimezoneInt</th>\n",
       "      <th>cluster_20</th>\n",
       "      <th>cluster_40</th>\n",
       "      <th>cluster_80</th>\n",
       "    </tr>\n",
       "  </thead>\n",
       "  <tbody>\n",
       "    <tr>\n",
       "      <th>0</th>\n",
       "      <td>0.000036</td>\n",
       "      <td>0.000027</td>\n",
       "      <td>0.000019</td>\n",
       "      <td>0.000026</td>\n",
       "      <td>0.000036</td>\n",
       "      <td>4</td>\n",
       "      <td>1</td>\n",
       "      <td>62</td>\n",
       "    </tr>\n",
       "    <tr>\n",
       "      <th>1</th>\n",
       "      <td>0.000036</td>\n",
       "      <td>0.000027</td>\n",
       "      <td>0.000019</td>\n",
       "      <td>0.000026</td>\n",
       "      <td>0.000031</td>\n",
       "      <td>4</td>\n",
       "      <td>1</td>\n",
       "      <td>44</td>\n",
       "    </tr>\n",
       "    <tr>\n",
       "      <th>2</th>\n",
       "      <td>0.000020</td>\n",
       "      <td>0.000027</td>\n",
       "      <td>0.000019</td>\n",
       "      <td>0.000026</td>\n",
       "      <td>-0.000018</td>\n",
       "      <td>9</td>\n",
       "      <td>17</td>\n",
       "      <td>60</td>\n",
       "    </tr>\n",
       "    <tr>\n",
       "      <th>3</th>\n",
       "      <td>0.000020</td>\n",
       "      <td>0.000027</td>\n",
       "      <td>0.000038</td>\n",
       "      <td>0.000027</td>\n",
       "      <td>0.000016</td>\n",
       "      <td>16</td>\n",
       "      <td>11</td>\n",
       "      <td>18</td>\n",
       "    </tr>\n",
       "    <tr>\n",
       "      <th>4</th>\n",
       "      <td>0.000036</td>\n",
       "      <td>0.000027</td>\n",
       "      <td>0.000038</td>\n",
       "      <td>0.000026</td>\n",
       "      <td>0.000031</td>\n",
       "      <td>0</td>\n",
       "      <td>2</td>\n",
       "      <td>54</td>\n",
       "    </tr>\n",
       "  </tbody>\n",
       "</table>\n",
       "</div>"
      ],
      "text/plain": [
       "   LocaleId  BirthYearInt  GenderId  JoinedYearMonth  TimezoneInt  cluster_20  \\\n",
       "0  0.000036      0.000027  0.000019         0.000026     0.000036           4   \n",
       "1  0.000036      0.000027  0.000019         0.000026     0.000031           4   \n",
       "2  0.000020      0.000027  0.000019         0.000026    -0.000018           9   \n",
       "3  0.000020      0.000027  0.000038         0.000027     0.000016          16   \n",
       "4  0.000036      0.000027  0.000038         0.000026     0.000031           0   \n",
       "\n",
       "   cluster_40  cluster_80  \n",
       "0           1          62  \n",
       "1           1          44  \n",
       "2          17          60  \n",
       "3          11          18  \n",
       "4           2          54  "
      ]
     },
     "execution_count": 21,
     "metadata": {},
     "output_type": "execute_result"
    }
   ],
   "source": [
    "user_data_Predict.head()"
   ]
  },
  {
   "cell_type": "code",
   "execution_count": 22,
   "metadata": {
    "collapsed": true
   },
   "outputs": [],
   "source": [
    "user_data_Predict.to_csv('users_MiniBatchKMeans_Pre.csv')"
   ]
  },
  {
   "cell_type": "code",
   "execution_count": 23,
   "metadata": {},
   "outputs": [
    {
     "data": {
      "image/png": "[encoded data removed]",
      "text/plain": [
       "<matplotlib.figure.Figure at 0x126bb8b9b00>"
      ]
     },
     "metadata": {},
     "output_type": "display_data"
    }
   ],
   "source": [
    "colors = ['b','g','r','k','c','m','y','#e24fff','#524C90','#845868','chartreuse','chocolate','darkgray','darkgoldenrod','darkturquoise','deeppink','dodgerblue','darkred','darkslateblue','fuchsia']\n",
    "\n",
    "for i in range(20):\n",
    "    part_of_preddict = user_data_Predict[user_data_Predict[\"cluster_20\"] == i]\n",
    "    x_data = part_of_preddict['LocaleId']\n",
    "    y_data = part_of_preddict['TimezoneInt']\n",
    "    plt.scatter(x_data,y_data,color=colors[i],linewidths=0.0001)\n",
    "\n",
    "plt.axis([-0.00001,0.0001,-0.00007,0.00007])\n",
    "plt.show()"
   ]
  },
  {
   "cell_type": "markdown",
   "metadata": {},
   "source": [
    "可以看到分类效果还是不错"
   ]
  },
  {
   "cell_type": "code",
   "execution_count": null,
   "metadata": {
    "collapsed": true
   },
   "outputs": [],
   "source": []
  }
 ],
 "metadata": {
  "kernelspec": {
   "display_name": "Python 3",
   "language": "python",
   "name": "python3"
  },
  "language_info": {
   "codemirror_mode": {
    "name": "ipython",
    "version": 3
   },
   "file_extension": ".py",
   "mimetype": "text/x-python",
   "name": "python",
   "nbconvert_exporter": "python",
   "pygments_lexer": "ipython3",
   "version": "3.6.3"
  }
 },
 "nbformat": 4,
 "nbformat_minor": 2
}
